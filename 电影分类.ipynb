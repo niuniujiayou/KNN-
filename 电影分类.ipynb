{
 "cells": [
  {
   "cell_type": "code",
   "execution_count": 1,
   "metadata": {},
   "outputs": [
    {
     "name": "stdout",
     "output_type": "stream",
     "text": [
      "[[  1 101]\n",
      " [  5  89]\n",
      " [108   5]\n",
      " [115   8]]\n",
      "['爱情片', '爱情片', '动作片', '动作片']\n"
     ]
    }
   ],
   "source": [
    "\n",
    "import numpy as np\n",
    "\n",
    "def createDataSet():\n",
    "    #四组二维特征\n",
    "    group = np.array([[1,101],[5,89],[108,5],[115,8]])\n",
    "    #四组特征的标签\n",
    "    labels = ['爱情片','爱情片','动作片','动作片']\n",
    "    return group, labels\n",
    "if __name__ == '__main__':\n",
    "    #创建数据集\n",
    "    group, labels = createDataSet()\n",
    "    #打印数据集\n",
    "    print(group)\n",
    "    print(labels)\n"
   ]
  },
  {
   "cell_type": "code",
   "execution_count": 5,
   "metadata": {},
   "outputs": [
    {
     "name": "stdout",
     "output_type": "stream",
     "text": [
      "爱情片\n"
     ]
    }
   ],
   "source": [
    "import numpy as np\n",
    "import operator\n",
    "\n",
    "def createDataSet():\n",
    "    #四组二维特征\n",
    "    group = np.array([[1,101],[5,89],[108,5],[115,8]])\n",
    "    #四组特征的标签\n",
    "    labels = ['爱情片','爱情片','动作片','动作片']\n",
    "    return group, labels\n",
    "\n",
    "def classify0(inX, dataSet, labels, k):\n",
    "\n",
    "    dataSetSize = dataSet.shape[0]\n",
    "\n",
    "    diffMat = np.tile(inX, (dataSetSize, 1)) - dataSet\n",
    "   \n",
    "    sqDiffMat = diffMat**2\n",
    "   \n",
    "    sqDistances = sqDiffMat.sum(axis=1)\n",
    "\n",
    "    distances = sqDistances**0.5\n",
    "   \n",
    "    sortedDistIndices = distances.argsort()\n",
    "   \n",
    "    classCount = {}\n",
    "    for i in range(k):\n",
    "        #取出前k个元素的类别\n",
    "        voteIlabel = labels[sortedDistIndices[i]]\n",
    "        \n",
    "        classCount[voteIlabel] = classCount.get(voteIlabel,0) + 1\n",
    "   \n",
    "    sortedClassCount = sorted(classCount.items(),key=operator.itemgetter(1),reverse=True)\n",
    "\n",
    "    return sortedClassCount[0][0]\n",
    "\n",
    "if __name__ == '__main__':\n",
    "\n",
    "    group, labels = createDataSet()\n",
    "    #测试集\n",
    "    test = [20,80]\n",
    "\n",
    "    test_class = classify0(test, group, labels, 3)\n",
    "\n",
    "    print(test_class)\n"
   ]
  },
  {
   "cell_type": "code",
   "execution_count": null,
   "metadata": {},
   "outputs": [],
   "source": []
  }
 ],
 "metadata": {
  "kernelspec": {
   "display_name": "Python 3",
   "language": "python",
   "name": "python3"
  },
  "language_info": {
   "codemirror_mode": {
    "name": "ipython",
    "version": 3
   },
   "file_extension": ".py",
   "mimetype": "text/x-python",
   "name": "python",
   "nbconvert_exporter": "python",
   "pygments_lexer": "ipython3",
   "version": "3.7.4"
  }
 },
 "nbformat": 4,
 "nbformat_minor": 2
}
